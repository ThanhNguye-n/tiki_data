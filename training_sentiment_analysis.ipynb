{
 "cells": [
  {
   "cell_type": "code",
   "execution_count": 3,
   "metadata": {
    "colab": {
     "base_uri": "https://localhost:8080/"
    },
    "id": "TymXlnSlNNPf",
    "outputId": "5e5ee2ef-16aa-4975-94e7-1bea93ac87f5"
   },
   "outputs": [
    {
     "name": "stdout",
     "output_type": "stream",
     "text": [
      "cuda\n"
     ]
    },
    {
     "name": "stderr",
     "output_type": "stream",
     "text": [
      "Special tokens have been added in the vocabulary, make sure the associated word embeddings are fine-tuned or trained.\n"
     ]
    }
   ],
   "source": [
    "import pandas as pd\n",
    "import numpy as np\n",
    "import matplotlib.pyplot as plt\n",
    "import torch\n",
    "import torch.nn as nn\n",
    "from torch.utils.data import DataLoader, Dataset\n",
    "from transformers import AdamW, AutoModel, AutoTokenizer, PhobertTokenizer\n",
    "import warnings\n",
    "from tqdm import tqdm, trange\n",
    "from sklearn.metrics import classification_report\n",
    "warnings.filterwarnings('ignore')\n",
    "\n",
    "# Set the device\n",
    "device = torch.device('cuda' if torch.cuda.is_available() else 'cpu')\n",
    "print(device)\n",
    "\n",
    "tokenizer = PhobertTokenizer.from_pretrained(\"vinai/phobert-base\")"
   ]
  },
  {
   "cell_type": "code",
   "execution_count": 4,
   "metadata": {
    "id": "WnWQkylHNObg"
   },
   "outputs": [],
   "source": [
    "train_data = pd.read_csv('Train.csv')\n",
    "val_data = pd.read_csv('Dev.csv')\n",
    "test_data = pd.read_csv('Test.csv')\n",
    "\n",
    "# Convert 5 labels to 3 labels (Negative, Neutral, Positive)\n",
    "def to_sentiment(rating):\n",
    "    rating = int(rating)\n",
    "    if rating <= 2:\n",
    "      return 0\n",
    "    elif rating == 3:\n",
    "      return 1\n",
    "    else:\n",
    "      return 2\n",
    "\n",
    "train_data.n_star = train_data.n_star.apply(to_sentiment)\n",
    "val_data.n_star = val_data.n_star.apply(to_sentiment)\n",
    "test_data.n_star = test_data.n_star.apply(to_sentiment)"
   ]
  },
  {
   "cell_type": "code",
   "execution_count": 5,
   "metadata": {
    "colab": {
     "base_uri": "https://localhost:8080/"
    },
    "id": "qb78tXloNa0u",
    "outputId": "a57b6066-1cb5-4e3c-87c0-b5f611ed08d4"
   },
   "outputs": [
    {
     "name": "stderr",
     "output_type": "stream",
     "text": [
      "Token indices sequence length is longer than the specified maximum sequence length for this model (277 > 256). Running this sequence through the model will result in indexing errors\n"
     ]
    },
    {
     "data": {
      "text/plain": [
       "100"
      ]
     },
     "execution_count": 5,
     "metadata": {},
     "output_type": "execute_result"
    }
   ],
   "source": [
    "#To using tokenizer to find max_len (percentile=95)\n",
    "\n",
    "sequence_lengths = [len(tokenizer.encode(text)) for text in train_data.comment]\n",
    "\n",
    "max_length = int(np.percentile(sequence_lengths, 95))\n",
    "max_length"
   ]
  },
  {
   "cell_type": "code",
   "execution_count": 6,
   "metadata": {
    "id": "0qEUvscANgd6"
   },
   "outputs": [],
   "source": [
    "# Define your labeled dataset class\n",
    "class SentimentDataset(Dataset):\n",
    "    def __init__(self, texts, labels, tokenizer):\n",
    "        self.texts = texts\n",
    "        self.labels = labels\n",
    "        self.tokenizer = tokenizer\n",
    "\n",
    "    def __len__(self):\n",
    "        return len(self.texts)\n",
    "\n",
    "    def __getitem__(self, idx):\n",
    "        text = str(self.texts[idx])\n",
    "        label = self.labels[idx]\n",
    "        encoding = self.tokenizer.encode_plus(\n",
    "            text,\n",
    "            add_special_tokens=True,\n",
    "            max_length=100,\n",
    "            padding='max_length',\n",
    "            truncation=True,\n",
    "            return_tensors='pt'\n",
    "        )\n",
    "        input_ids = encoding['input_ids'].squeeze()\n",
    "        attention_mask = encoding['attention_mask'].squeeze()\n",
    "\n",
    "        return {\n",
    "            'input_ids': input_ids,\n",
    "            'attention_mask': attention_mask,\n",
    "            'label': torch.tensor(label, dtype=torch.long)\n",
    "        }"
   ]
  },
  {
   "cell_type": "code",
   "execution_count": 7,
   "metadata": {
    "id": "OdLz5Ti8NjAQ"
   },
   "outputs": [],
   "source": [
    "class SentimentClassifier(nn.Module):\n",
    "    def __init__(self, n_classes):\n",
    "        super(SentimentClassifier, self).__init__()\n",
    "        self.bert = AutoModel.from_pretrained(\"vinai/phobert-base\")\n",
    "        self.drop = nn.Dropout(p=0.3)\n",
    "        self.fc = nn.Linear(self.bert.config.hidden_size, n_classes)\n",
    "        nn.init.normal_(self.fc.weight, std=0.02)\n",
    "        nn.init.normal_(self.fc.bias, 0)\n",
    "\n",
    "    def forward(self, input_ids, attention_mask):\n",
    "        last_hidden_state, output = self.bert(\n",
    "            input_ids=input_ids,\n",
    "            attention_mask=attention_mask,\n",
    "            return_dict=False # Dropout will errors if without this\n",
    "        )\n",
    "\n",
    "        x = self.drop(output)\n",
    "        x = self.fc(x)\n",
    "        return x"
   ]
  },
  {
   "cell_type": "code",
   "execution_count": 8,
   "metadata": {
    "colab": {
     "base_uri": "https://localhost:8080/"
    },
    "id": "WjVQE3jANkhk",
    "outputId": "682c6249-5e95-4d81-9288-f08b0fb3b555"
   },
   "outputs": [
    {
     "name": "stderr",
     "output_type": "stream",
     "text": [
      "Some weights of the model checkpoint at vinai/phobert-base were not used when initializing RobertaModel: ['lm_head.decoder.weight', 'lm_head.layer_norm.weight', 'lm_head.layer_norm.bias', 'lm_head.decoder.bias', 'lm_head.dense.bias', 'lm_head.bias', 'lm_head.dense.weight']\n",
      "- This IS expected if you are initializing RobertaModel from the checkpoint of a model trained on another task or with another architecture (e.g. initializing a BertForSequenceClassification model from a BertForPreTraining model).\n",
      "- This IS NOT expected if you are initializing RobertaModel from the checkpoint of a model that you expect to be exactly identical (initializing a BertForSequenceClassification model from a BertForSequenceClassification model).\n"
     ]
    }
   ],
   "source": [
    "# Prepare and preprocess your dataset\n",
    "train_dataset = SentimentDataset(train_data.comment, train_data.n_star, tokenizer)\n",
    "val_dataset = SentimentDataset(val_data.comment, val_data.n_star, tokenizer)\n",
    "test_dataset = SentimentDataset(test_data.comment, test_data.n_star, tokenizer)\n",
    "\n",
    "\n",
    "# Define model and optimizer\n",
    "model = SentimentClassifier(n_classes=3)\n",
    "model.to(device)\n",
    "\n",
    "criterion = nn.CrossEntropyLoss()\n",
    "optimizer = AdamW(model.parameters(), lr=1e-5)\n",
    "\n",
    "# DataLoaders\n",
    "train_loader = DataLoader(train_dataset, batch_size=128, shuffle=True)\n",
    "val_loader = DataLoader(val_dataset, batch_size=128)\n",
    "test_loader = DataLoader(test_dataset, batch_size=128)"
   ]
  },
  {
   "cell_type": "code",
   "execution_count": 9,
   "metadata": {
    "id": "dtFR4p7MTRL1"
   },
   "outputs": [],
   "source": [
    "def train(model, criterion, optimizer, train_loader, val_loader, num_epochs):\n",
    "    best_val_loss = float('inf')\n",
    "    batches_per_epoch = len(train_loader)\n",
    "    history = {'train_loss': [], 'train_acc': [], 'val_loss': [],'val_acc': []}\n",
    "\n",
    "    for epoch in range(num_epochs):\n",
    "        with trange(batches_per_epoch, unit='batch') as pbar:\n",
    "            pbar.set_description(f'{epoch + 1} epoch(s)')\n",
    "\n",
    "            # Training\n",
    "            model.train()\n",
    "            train_loss = 0.0\n",
    "            train_acc = 0.0\n",
    "            for batch in train_loader:\n",
    "              input_ids = batch['input_ids'].to(device)\n",
    "              attention_mask = batch['attention_mask'].to(device)\n",
    "              labels = batch['label'].to(device)\n",
    "\n",
    "              optimizer.zero_grad()\n",
    "\n",
    "              outputs = model(input_ids, attention_mask)\n",
    "              loss = criterion(outputs, labels)\n",
    "              _, yhat = torch.max(outputs, dim=1)\n",
    "\n",
    "              loss.backward()\n",
    "              optimizer.step()\n",
    "\n",
    "              train_loss += loss.item()\n",
    "              train_acc += (yhat == labels).sum().item()\n",
    "              pbar.update()\n",
    "\n",
    "            train_loss = round(train_loss,3)\n",
    "            train_acc = round(train_acc / len(train_data), 3)\n",
    "            history['train_loss'].append(train_loss)\n",
    "            history['train_acc'].append(train_acc)\n",
    "\n",
    "            avg_train_loss = train_loss / len(train_loader)\n",
    "\n",
    "            # Validation\n",
    "            model.eval()\n",
    "            val_loss = 0.0\n",
    "            correct_preds = 0\n",
    "            total_preds = 0\n",
    "            with torch.no_grad():\n",
    "                for batch in val_loader:\n",
    "                    input_ids = batch['input_ids'].to(device)\n",
    "                    attention_mask = batch['attention_mask'].to(device)\n",
    "                    labels = batch['label'].to(device)\n",
    "\n",
    "                    outputs = model(input_ids, attention_mask)\n",
    "                    loss = criterion(outputs, labels)\n",
    "                    val_loss += loss.item()\n",
    "\n",
    "                    _, predicted = torch.max(outputs, dim=1)\n",
    "                    correct_preds += (predicted == labels).sum().item()\n",
    "                    total_preds += labels.size(0)\n",
    "\n",
    "            val_acc = round(correct_preds / total_preds,3)\n",
    "            avg_val_loss = val_loss / len(val_loader)\n",
    "            val_loss = round(val_loss,3)\n",
    "            history['val_acc'].append(val_acc)\n",
    "            history['val_loss'].append(val_loss)\n",
    "\n",
    "            pbar.set_postfix_str(f'train_loss: {train_loss} -train_acc: {train_acc} -val_loss: {val_loss} -val_acc: {val_acc}')\n",
    "\n",
    "            if avg_val_loss < best_val_loss:\n",
    "                best_val_loss = avg_val_loss\n",
    "                torch.save(model.state_dict(), \"models/best_phoBert-model.pt\")\n",
    "\n",
    "    print(\"Training finished.\")\n",
    "\n",
    "    return history\n",
    "\n"
   ]
  },
  {
   "cell_type": "code",
   "execution_count": 10,
   "metadata": {
    "colab": {
     "base_uri": "https://localhost:8080/"
    },
    "id": "mQlplk1vXsZS",
    "outputId": "eac31bb4-70d1-4ff7-9d0d-0ed104b5f01e"
   },
   "outputs": [
    {
     "name": "stderr",
     "output_type": "stream",
     "text": [
      "1 epoch(s): 100%|██████████| 61/61 [02:09<00:00,  2.12s/batch, train_loss: 60.71 -train_acc: 0.546 -val_loss: 7.64 -val_acc: 0.632]\n",
      "2 epoch(s): 100%|██████████| 61/61 [02:06<00:00,  2.08s/batch, train_loss: 41.786 -train_acc: 0.736 -val_loss: 5.201 -val_acc: 0.764]\n",
      "3 epoch(s): 100%|██████████| 61/61 [02:05<00:00,  2.06s/batch, train_loss: 33.984 -train_acc: 0.784 -val_loss: 4.865 -val_acc: 0.781]\n",
      "4 epoch(s): 100%|██████████| 61/61 [02:09<00:00,  2.12s/batch, train_loss: 30.263 -train_acc: 0.807 -val_loss: 4.677 -val_acc: 0.797]\n",
      "5 epoch(s): 100%|██████████| 61/61 [02:03<00:00,  2.02s/batch, train_loss: 27.546 -train_acc: 0.818 -val_loss: 4.78 -val_acc: 0.78]\n",
      "6 epoch(s): 100%|██████████| 61/61 [02:02<00:00,  2.01s/batch, train_loss: 25.32 -train_acc: 0.832 -val_loss: 4.879 -val_acc: 0.793]\n",
      "7 epoch(s): 100%|██████████| 61/61 [02:02<00:00,  2.01s/batch, train_loss: 24.69 -train_acc: 0.83 -val_loss: 4.859 -val_acc: 0.792]\n",
      "8 epoch(s): 100%|██████████| 61/61 [02:02<00:00,  2.01s/batch, train_loss: 21.467 -train_acc: 0.86 -val_loss: 4.967 -val_acc: 0.777]\n",
      "9 epoch(s): 100%|██████████| 61/61 [02:02<00:00,  2.01s/batch, train_loss: 19.712 -train_acc: 0.872 -val_loss: 5.278 -val_acc: 0.785]\n",
      "10 epoch(s): 100%|██████████| 61/61 [02:02<00:00,  2.02s/batch, train_loss: 18.531 -train_acc: 0.883 -val_loss: 5.465 -val_acc: 0.785]"
     ]
    },
    {
     "name": "stdout",
     "output_type": "stream",
     "text": [
      "Training finished.\n"
     ]
    },
    {
     "name": "stderr",
     "output_type": "stream",
     "text": [
      "\n"
     ]
    }
   ],
   "source": [
    "num_epochs = 10\n",
    "history = train(model, criterion, optimizer, train_loader, val_loader, num_epochs)"
   ]
  },
  {
   "cell_type": "code",
   "execution_count": 11,
   "metadata": {
    "colab": {
     "base_uri": "https://localhost:8080/",
     "height": 742
    },
    "id": "bIoyeQs-lhQ1",
    "outputId": "c505c115-56ee-4afa-e5d4-fc27417404d8"
   },
   "outputs": [
    {
     "name": "stdout",
     "output_type": "stream",
     "text": [
      "CLASSIFICATION REPORT \n",
      "\n",
      "               precision    recall  f1-score   support\n",
      "\n",
      "           0       0.90      0.69      0.78        13\n",
      "           1       0.17      0.50      0.25         2\n",
      "           2       0.97      0.94      0.95        33\n",
      "\n",
      "    accuracy                           0.85        48\n",
      "   macro avg       0.68      0.71      0.66        48\n",
      "weighted avg       0.92      0.85      0.88        48\n",
      "\n",
      "\n",
      "--------------------------------------------------------------------------------\n",
      "\n",
      "\n"
     ]
    },
    {
     "data": {
      "image/png": "[encoded data removed]",
      "text/plain": [
       "<Figure size 640x480 with 1 Axes>"
      ]
     },
     "metadata": {},
     "output_type": "display_data"
    }
   ],
   "source": [
    "# Evaluation\n",
    "model.load_state_dict(torch.load(\"models/best_phoBert-model.pt\"))\n",
    "model.eval()\n",
    "\n",
    "with torch.no_grad():\n",
    "    for batch in test_loader:\n",
    "        input_ids = batch['input_ids'].to(device)\n",
    "        attention_mask = batch['attention_mask'].to(device)\n",
    "        labels = batch['label'].to(device)\n",
    "\n",
    "        outputs = model(input_ids, attention_mask)\n",
    "        _, predicted = torch.max(outputs, dim=1)\n",
    "\n",
    "report = classification_report(predicted.cpu().numpy(), labels.cpu().numpy())\n",
    "print('CLASSIFICATION REPORT \\n\\n', report)\n",
    "print()\n",
    "print('-'*80)\n",
    "print('\\n')\n",
    "plt.plot(history['train_acc'], label='train')\n",
    "plt.plot(history['val_acc'], label='val')\n",
    "plt.title('Accuracy between Train_set and Val_set while training')\n",
    "plt.legend()\n",
    "plt.show()"
   ]
  }
 ],
 "metadata": {
  "accelerator": "GPU",
  "colab": {
   "gpuType": "T4",
   "provenance": []
  },
  "kernelspec": {
   "display_name": "Python 3",
   "language": "python",
   "name": "python3"
  },
  "language_info": {
   "codemirror_mode": {
    "name": "ipython",
    "version": 3
   },
   "file_extension": ".py",
   "mimetype": "text/x-python",
   "name": "python",
   "nbconvert_exporter": "python",
   "pygments_lexer": "ipython3",
   "version": "3.8.8"
  }
 },
 "nbformat": 4,
 "nbformat_minor": 4
}
