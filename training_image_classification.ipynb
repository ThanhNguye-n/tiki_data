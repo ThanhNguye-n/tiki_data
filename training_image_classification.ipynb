{
 "cells": [
  {
   "cell_type": "code",
   "execution_count": 3,
   "metadata": {
    "colab": {
     "base_uri": "https://localhost:8080/"
    },
    "id": "UuO76SH26I0_",
    "outputId": "2e458624-35f2-48a3-9ed0-e20a742ef0e6"
   },
   "outputs": [
    {
     "name": "stdout",
     "output_type": "stream",
     "text": [
      "cuda\n"
     ]
    }
   ],
   "source": [
    "import pandas as pd\n",
    "import matplotlib.pyplot as plt\n",
    "import numpy as np\n",
    "import os\n",
    "from tqdm import tqdm, trange\n",
    "import urllib.request\n",
    "from PIL import Image\n",
    "from io import BytesIO\n",
    "\n",
    "import torch\n",
    "from torch.utils.data import Dataset, DataLoader, random_split\n",
    "from torchvision import models, transforms\n",
    "from torchvision.io import read_image\n",
    "from torch import nn, optim\n",
    "from copy import deepcopy\n",
    "from sklearn.preprocessing import LabelEncoder\n",
    "from sklearn.metrics import classification_report\n",
    "\n",
    "\n",
    "import asyncio\n",
    "from time import perf_counter\n",
    "import aiohttp\n",
    "import nest_asyncio\n",
    "import warnings\n",
    "warnings.filterwarnings('ignore')\n",
    "\n",
    "\n",
    "# Run the async function\n",
    "nest_asyncio.apply()\n",
    "# Set seed\n",
    "generator = torch.Generator().manual_seed(2023)\n",
    "# Set the device\n",
    "device = torch.device('cuda' if torch.cuda.is_available() else 'cpu')\n",
    "print(device)"
   ]
  },
  {
   "cell_type": "code",
   "execution_count": 102,
   "metadata": {
    "colab": {
     "base_uri": "https://localhost:8080/"
    },
    "id": "6w_A7GciMYai",
    "outputId": "24907421-dc8c-4e95-f3d8-9b4837dfa219"
   },
   "outputs": [
    {
     "name": "stdout",
     "output_type": "stream",
     "text": [
      "Save data csv successfully \n"
     ]
    }
   ],
   "source": [
    "def create_image_dataset():\n",
    "    \"\"\"\n",
    "    Creates an image dataset by fetching thumbnail images from URLs, saving them to a local folder,\n",
    "    and generating corresponding labels. The dataset is then saved as CSV files.\n",
    "    \"\"\"\n",
    "    \n",
    "    # Create image folder\n",
    "    img_folder = '/data/data_thumbnail'\n",
    "    if not os.path.exists(img_folder):\n",
    "        os.makedirs(img_folder)\n",
    "\n",
    "    # Read data from CSV\n",
    "    data_img = pd.read_csv('data/dien-thoai-may-tinh-bang.csv')\n",
    "\n",
    "    async def fetch(s, url):\n",
    "        # Asynchronously fetch image data from the given URL\n",
    "        async with s.get(f'{url}') as r:\n",
    "            if r.status != 200:\n",
    "                r.raise_for_status()\n",
    "            return await r.read()\n",
    "\n",
    "    async def fetch_all(s, urls):\n",
    "        # Fetch image data for all URLs in parallel using asyncio\n",
    "        tasks = []\n",
    "        for url in urls:\n",
    "            task = asyncio.create_task(fetch(s, url))\n",
    "            tasks.append(task)\n",
    "        res = await asyncio.gather(*tasks)\n",
    "        return res\n",
    "\n",
    "    async def main():\n",
    "        global urls, htmls\n",
    "\n",
    "        urls = data_img['thumbnail_url'].tolist()\n",
    "        async with aiohttp.ClientSession() as session:\n",
    "            htmls = await fetch_all(session, urls)\n",
    "\n",
    "    asyncio.run(main())\n",
    "\n",
    "    # Save fetched image data to files\n",
    "    path = []\n",
    "    for html, url in zip(htmls, urls):\n",
    "        img_name = url.split('/')[-1]\n",
    "        img_path = f'{img_folder}/{img_name}'\n",
    "        path.append(img_path)\n",
    "\n",
    "        with open(img_path, \"wb\") as f:\n",
    "            f.write(html)\n",
    "\n",
    "    # Update data_img DataFrame with image paths and labels\n",
    "    data_img['img_path'] = pd.Series(path)\n",
    "    data_img['label'] = data_img['brand_name'] + '_' + data_img['productset_id'].astype(str)\n",
    "\n",
    "\n",
    "    thumbnail_img = data_img[['label', 'img_path']]\n",
    "    count_thumbnail = thumbnail_img['label'].value_counts()\n",
    "\n",
    "    # Drop labels with value_counts < 6\n",
    "    others = count_thumbnail[count_thumbnail < 6].index\n",
    "    thumbnail_img['label'] = thumbnail_img['label'].apply(lambda x: 'Others' if x in others else x)\n",
    "    other_index = thumbnail_img[thumbnail_img.label == 'Others'].index\n",
    "    thumbnail_img.drop(other_index, inplace=True)\n",
    "\n",
    "    # Save data csv\n",
    "    thumbnail_img.to_csv('data/img_data.csv', index=False)\n",
    "    data_img.to_csv('data/full_data_dien_thoai_may_tinh_bang.csv', index=False)\n",
    "\n",
    "    print('Save data csv successfully ')\n",
    "\n",
    "\n",
    "create_image_dataset()\n"
   ]
  },
  {
   "cell_type": "code",
   "execution_count": 5,
   "metadata": {
    "id": "pX5k7DeQP021"
   },
   "outputs": [],
   "source": [
    "class Dataset(Dataset):\n",
    "\n",
    "    # Constructor\n",
    "    def __init__(self, csv_file, data_dir, transform=None, target_transform=None):\n",
    "\n",
    "        # Image directory\n",
    "        self.data_dir=data_dir\n",
    "\n",
    "        # The transform\n",
    "        self.transform = transform\n",
    "        self.target_transform = target_transform\n",
    "\n",
    "        data_dircsv_file=os.path.join(self.data_dir,csv_file)\n",
    "        # Load the CSV file contians image info\n",
    "        self.data_name= pd.read_csv(data_dircsv_file)\n",
    "\n",
    "        # Number of images in dataset\n",
    "        self.len=self.data_name.shape[0]\n",
    "\n",
    "        if self.target_transform:\n",
    "            labels = self.data_name.iloc[:, 0]\n",
    "            self.data_name.iloc[:, 0] = LabelEncoder().fit_transform(self.data_name.iloc[:,0])\n",
    "            encoded_labels = self.data_name.iloc[:, 0]\n",
    "\n",
    "            # Create a dictionary mapping the labels to their encoded values\n",
    "            self.dict_label = {encoded_label: label for label, encoded_label in zip(labels, encoded_labels)}\n",
    "\n",
    "    # Get the length\n",
    "    def __len__(self):\n",
    "        return self.len\n",
    "\n",
    "    # Getter\n",
    "    def __getitem__(self, idx):\n",
    "\n",
    "        # Image file path\n",
    "        img_name=os.path.join(self.data_dir,self.data_name.iloc[idx, 1])\n",
    "        image = Image.open(img_name).convert('RGB')\n",
    "\n",
    "        # The class label for the image\n",
    "        y = torch.tensor(self.data_name.iloc[idx, 0]).type(torch.LongTensor)\n",
    "\n",
    "        # If there is any transform method, apply it\n",
    "        if self.transform:\n",
    "            image = self.transform(image)\n",
    "\n",
    "        return image, y\n"
   ]
  },
  {
   "cell_type": "code",
   "execution_count": 6,
   "metadata": {
    "id": "q8Tn2tcOklS8"
   },
   "outputs": [],
   "source": [
    "def setup_transfer_learning_pipeline():\n",
    "    \"\"\"\n",
    "    Sets up the transfer learning pipeline for image classification using a pre-trained ResNet34 model.\n",
    "\n",
    "    Returns:\n",
    "    - model: Initialized ResNet34 model with pre-trained weights.\n",
    "    - criterion: Loss function for training the model.\n",
    "    - optimizer: Optimizer for updating model parameters during training.\n",
    "    - train_data: Training dataset.\n",
    "    - val_data: Validation dataset.\n",
    "    - test_data: Test dataset.\n",
    "    - dict_label: Dictionary mapping encoded labels to their original values.\n",
    "    \"\"\"\n",
    "    \n",
    "    OUTDIMS = 23  #len(thumbnail_img['label'].unique())\n",
    "\n",
    "    # Initialize model with the best available weights\n",
    "    weights = models.ResNet34_Weights.DEFAULT\n",
    "    model = models.resnet34(weights=weights).to(device)\n",
    "\n",
    "    # Initialize the inference transforms\n",
    "    preprocess = weights.transforms()\n",
    "\n",
    "    # Load and preprocess the dataset\n",
    "    my_data = Dataset('img_data.csv', './data/', transform=preprocess, target_transform=True)\n",
    "    dict_label = my_data.dict_label\n",
    "\n",
    "    # Split the dataset into train, validation, and test sets\n",
    "    train_data, val_data, test_data = random_split(dataset=my_data, lengths=[0.8, 0.1, 0.1], generator=generator)\n",
    "\n",
    "    # Create a data loader for the training set\n",
    "    trainloader = DataLoader(dataset=my_data, batch_size=32, generator=generator, shuffle=True)\n",
    "\n",
    "    # Freeze the parameters of the model, except the final layer\n",
    "    for param in model.parameters():\n",
    "        param.requires_grad = False\n",
    "    model.fc = nn.Linear(512, 23).to(device)\n",
    "\n",
    "    # Define the loss function and optimizer\n",
    "    criterion = nn.CrossEntropyLoss()\n",
    "    optimizer = optim.Adam(params=[param for param in model.parameters() if param.requires_grad], lr=0.001)\n",
    "\n",
    "    return model, criterion, optimizer, train_data, val_data, test_data, dict_label\n"
   ]
  },
  {
   "cell_type": "code",
   "execution_count": 7,
   "metadata": {
    "id": "3CPa2pQ5lSMn"
   },
   "outputs": [],
   "source": [
    "def train_model(model, criterion, optimizer, train, val, batch_size, epochs):\n",
    "    \"\"\"\n",
    "    Trains the specified model using the given criterion, optimizer, training data, validation data,\n",
    "    batch size, and number of epochs.\n",
    "\n",
    "    Returns:\n",
    "    - history: Dictionary containing the training history (train loss, train accuracy, validation accuracy).\n",
    "    - best: Dictionary containing the best model and its accuracy.\n",
    "    \"\"\"\n",
    "    \n",
    "    trainloader = DataLoader(dataset=train, batch_size=batch_size, generator=generator, shuffle=True)\n",
    "    valloader = DataLoader(dataset=val, batch_size=batch_size, generator=generator, shuffle=True)\n",
    "    batches_per_epoch = len(trainloader)\n",
    "\n",
    "    # Initialize variables to track the best model and its accuracy, as well as the training history\n",
    "    best = {'best_model': None, 'best_acc': 0}\n",
    "    history = {'train_loss': [], 'train_acc': [], 'val_acc': []}\n",
    "\n",
    "    for epoch in range(epochs):\n",
    "        with trange(batches_per_epoch, unit='batch') as pbar:\n",
    "            pbar.set_description(f'{epoch + 1} epoch(s)')\n",
    "\n",
    "            train_loss = 0\n",
    "            train_acc = 0\n",
    "            model.train()\n",
    "            for x, y in trainloader:\n",
    "                optimizer.zero_grad()\n",
    "                x, y = x.to(device), y.to(device)\n",
    "                yhat = model(x)\n",
    "                _, label = torch.max(yhat, dim=-1)\n",
    "                loss = criterion(yhat, y)\n",
    "                loss.backward()\n",
    "                optimizer.step()\n",
    "                train_loss += loss.item()\n",
    "                train_acc += (label == y).sum().item()\n",
    "                pbar.update()\n",
    "\n",
    "            train_acc = round(train_acc / len(train), 3)\n",
    "            history['train_loss'].append(loss)\n",
    "            history['train_acc'].append(train_acc)\n",
    "\n",
    "            # Evaluation mode\n",
    "            val_acc = 0\n",
    "            model.eval()\n",
    "            for x, y in valloader:\n",
    "                x, y = x.to(device), y.to(device)\n",
    "                _, label = torch.max(model(x), dim=-1)\n",
    "                val_acc += (label == y).sum().item()\n",
    "\n",
    "            val_acc = round(val_acc / len(val), 3)\n",
    "            history['val_acc'].append(val_acc)\n",
    "\n",
    "            # Check if the current validation accuracy is the best so far\n",
    "            if val_acc > best['best_acc']:\n",
    "                best['best_model'] = deepcopy(model)\n",
    "                best['best_acc'] = deepcopy(val_acc)\n",
    "\n",
    "            pbar.set_postfix_str(f'train_loss: {train_loss} train_acc: {train_acc} val_acc: {val_acc}')\n",
    "\n",
    "    return history, best\n"
   ]
  },
  {
   "cell_type": "code",
   "execution_count": 21,
   "metadata": {
    "colab": {
     "base_uri": "https://localhost:8080/"
    },
    "id": "dnoNtFtrlcjG",
    "outputId": "5d4c7d60-6dbc-476e-e6c1-23cd194b6d9b"
   },
   "outputs": [
    {
     "name": "stderr",
     "output_type": "stream",
     "text": [
      "1 epoch(s): 100%|██████████| 7/7 [00:07<00:00,  1.06s/batch, train_loss: 19.496114253997803 train_acc: 0.186 val_acc: 0.248]\n",
      "2 epoch(s): 100%|██████████| 7/7 [00:06<00:00,  1.08batch/s, train_loss: 16.7826144695282 train_acc: 0.298 val_acc: 0.337]\n",
      "3 epoch(s): 100%|██████████| 7/7 [00:07<00:00,  1.06s/batch, train_loss: 14.809608817100525 train_acc: 0.407 val_acc: 0.446]\n",
      "4 epoch(s): 100%|██████████| 7/7 [00:06<00:00,  1.07batch/s, train_loss: 12.969984889030457 train_acc: 0.454 val_acc: 0.505]\n",
      "5 epoch(s): 100%|██████████| 7/7 [00:07<00:00,  1.07s/batch, train_loss: 11.493553638458252 train_acc: 0.552 val_acc: 0.564]\n",
      "6 epoch(s): 100%|██████████| 7/7 [00:06<00:00,  1.08batch/s, train_loss: 10.181807279586792 train_acc: 0.603 val_acc: 0.594]\n",
      "7 epoch(s): 100%|██████████| 7/7 [00:07<00:00,  1.06s/batch, train_loss: 9.04126226902008 train_acc: 0.661 val_acc: 0.644]\n",
      "8 epoch(s): 100%|██████████| 7/7 [00:06<00:00,  1.08batch/s, train_loss: 8.231094360351562 train_acc: 0.704 val_acc: 0.693]\n",
      "9 epoch(s): 100%|██████████| 7/7 [00:07<00:00,  1.06s/batch, train_loss: 7.637714982032776 train_acc: 0.728 val_acc: 0.733]\n",
      "10 epoch(s): 100%|██████████| 7/7 [00:06<00:00,  1.02batch/s, train_loss: 6.952163994312286 train_acc: 0.781 val_acc: 0.703]\n",
      "11 epoch(s): 100%|██████████| 7/7 [00:07<00:00,  1.01s/batch, train_loss: 6.347458362579346 train_acc: 0.767 val_acc: 0.752]\n",
      "12 epoch(s): 100%|██████████| 7/7 [00:07<00:00,  1.03s/batch, train_loss: 6.002103507518768 train_acc: 0.822 val_acc: 0.752]\n",
      "13 epoch(s): 100%|██████████| 7/7 [00:06<00:00,  1.04batch/s, train_loss: 5.449601888656616 train_acc: 0.849 val_acc: 0.743]\n",
      "14 epoch(s): 100%|██████████| 7/7 [00:07<00:00,  1.05s/batch, train_loss: 5.262791275978088 train_acc: 0.837 val_acc: 0.762]\n",
      "15 epoch(s): 100%|██████████| 7/7 [00:06<00:00,  1.07batch/s, train_loss: 4.975998401641846 train_acc: 0.837 val_acc: 0.772]\n",
      "16 epoch(s): 100%|██████████| 7/7 [00:07<00:00,  1.05s/batch, train_loss: 4.507259905338287 train_acc: 0.881 val_acc: 0.762]\n",
      "17 epoch(s): 100%|██████████| 7/7 [00:06<00:00,  1.08batch/s, train_loss: 4.292708516120911 train_acc: 0.897 val_acc: 0.792]\n",
      "18 epoch(s): 100%|██████████| 7/7 [00:07<00:00,  1.05s/batch, train_loss: 4.1359246373176575 train_acc: 0.892 val_acc: 0.792]\n",
      "19 epoch(s): 100%|██████████| 7/7 [00:06<00:00,  1.09batch/s, train_loss: 4.024718791246414 train_acc: 0.882 val_acc: 0.812]\n",
      "20 epoch(s): 100%|██████████| 7/7 [00:07<00:00,  1.04s/batch, train_loss: 3.584442377090454 train_acc: 0.922 val_acc: 0.782]\n",
      "21 epoch(s): 100%|██████████| 7/7 [00:06<00:00,  1.10batch/s, train_loss: 3.5302478075027466 train_acc: 0.907 val_acc: 0.772]\n",
      "22 epoch(s): 100%|██████████| 7/7 [00:07<00:00,  1.04s/batch, train_loss: 3.4315483272075653 train_acc: 0.923 val_acc: 0.822]\n",
      "23 epoch(s): 100%|██████████| 7/7 [00:06<00:00,  1.06batch/s, train_loss: 3.1955601572990417 train_acc: 0.929 val_acc: 0.812]\n",
      "24 epoch(s): 100%|██████████| 7/7 [00:07<00:00,  1.04s/batch, train_loss: 3.069658935070038 train_acc: 0.942 val_acc: 0.842]\n",
      "25 epoch(s): 100%|██████████| 7/7 [00:06<00:00,  1.02batch/s, train_loss: 2.972934663295746 train_acc: 0.939 val_acc: 0.832]\n"
     ]
    }
   ],
   "source": [
    "model, criterion, optimizer, train_data, val_data, test_data, dict_label = setup_transfer_learning_pipeline()\n",
    "\n",
    "\n",
    "# Training process\n",
    "history, best = train_model(model, criterion, optimizer, train_data, val_data, batch_size=128, epochs=25)"
   ]
  },
  {
   "cell_type": "code",
   "execution_count": 28,
   "metadata": {
    "colab": {
     "base_uri": "https://localhost:8080/"
    },
    "id": "JMjBLwYMoAOd",
    "outputId": "1f311b2e-96f8-4c00-e115-53f546bfcf3c"
   },
   "outputs": [
    {
     "name": "stdout",
     "output_type": "stream",
     "text": [
      "Save model successfully at models/model_ResNet34_25epochs.pt\n"
     ]
    }
   ],
   "source": [
    "def save_model(folder):\n",
    "\n",
    "    best_model = best['best_model']\n",
    "    model_scripted = torch.jit.script(best_model)  # Export to TorchScript\n",
    "\n",
    "    # Create the folder if it doesn't exist\n",
    "    os.makedirs(folder, exist_ok=True)\n",
    "\n",
    "    # Save the model in the specified folder\n",
    "    model_path = os.path.join(folder, 'model_ResNet34_25epochs.pt')\n",
    "    model_scripted.save(model_path)\n",
    "    print(f'Save model successfully at {model_path}')\n",
    "\n",
    "save_model(folder='models')"
   ]
  },
  {
   "cell_type": "code",
   "execution_count": 69,
   "metadata": {
    "colab": {
     "base_uri": "https://localhost:8080/",
     "height": 995
    },
    "id": "OHdFvlWx4dsQ",
    "outputId": "125df83c-f44c-4d83-bd28-21b7d57d83c9"
   },
   "outputs": [
    {
     "name": "stdout",
     "output_type": "stream",
     "text": [
      "CLASSIFICATION REPORT \n",
      "\n",
      "                 precision    recall  f1-score   support\n",
      "\n",
      "    Forme_2649       1.00      0.75      0.86         4\n",
      "   Kindle_2653       1.00      1.00      1.00         5\n",
      "     Kobo_2653       1.00      1.00      1.00         1\n",
      "  Masstel_2649       0.75      1.00      0.86         6\n",
      "    Nokia_2647       1.00      1.00      1.00         2\n",
      "    Nokia_2649       1.00      1.00      1.00         2\n",
      "      OEM_2647       1.00      1.00      1.00         1\n",
      "      OEM_2649       1.00      0.75      0.86         4\n",
      "      OEM_2651       1.00      1.00      1.00         3\n",
      "     OPPO_2647       1.00      1.00      1.00         9\n",
      "  Oukitel_2647       1.00      1.00      1.00         4\n",
      "Panasonic_2651       1.00      1.00      1.00         7\n",
      "  Samsung_2645       1.00      1.00      1.00         1\n",
      "  Samsung_2647       0.94      1.00      0.97        31\n",
      "    Tecno_2647       1.00      1.00      1.00         1\n",
      "     Vivo_2647       1.00      0.80      0.89         5\n",
      "   Xiaomi_2647       1.00      0.93      0.96        14\n",
      "\n",
      "      accuracy                           0.96       100\n",
      "     macro avg       0.98      0.95      0.96       100\n",
      "  weighted avg       0.97      0.96      0.96       100\n",
      "\n",
      "\n",
      "--------------------------------------------------------------------------------\n",
      "\n",
      "\n"
     ]
    },
    {
     "data": {
      "image/png": "[encoded data removed]",
      "text/plain": [
       "<Figure size 640x480 with 1 Axes>"
      ]
     },
     "metadata": {},
     "output_type": "display_data"
    }
   ],
   "source": [
    "def evaluate_model(test_data, history,dict_label, path_model='models/model_ResNet34_25epochs.pt'):\n",
    "\n",
    "    # Load model\n",
    "    model = torch.jit.load(path_model)\n",
    "    model.eval()\n",
    "\n",
    "    testloader = DataLoader(dataset=test_data, batch_size=len(test_data))\n",
    "    acc = 0\n",
    "    for x, y in testloader:\n",
    "        x, y = x.to(device), y.to(device)\n",
    "\n",
    "        yhat = model(x)\n",
    "        _, label = torch.max(yhat, dim=-1)\n",
    "\n",
    "\n",
    "    unique_labels = list(set(y.cpu().numpy()))\n",
    "    y_dict_label = {label: dict_label[label] for label in unique_labels}\n",
    "\n",
    "    report = classification_report(y.cpu().numpy(), label.cpu().numpy(), target_names=list(y_dict_label.values()))\n",
    "    print('CLASSIFICATION REPORT \\n\\n', report)\n",
    "    print()\n",
    "    print('-'*80)\n",
    "    print('\\n')\n",
    "    plt.plot(history['train_acc'], label='train')\n",
    "    plt.plot(history['val_acc'], label='val')\n",
    "    plt.title('Accuracy between Train_set and Val_set while training')\n",
    "    plt.legend()\n",
    "    plt.show()\n",
    "\n",
    "evaluate_model(test_data, history, dict_label)"
   ]
  }
 ],
 "metadata": {
  "accelerator": "GPU",
  "colab": {
   "gpuType": "T4",
   "provenance": []
  },
  "kernelspec": {
   "display_name": "Python 3",
   "language": "python",
   "name": "python3"
  },
  "language_info": {
   "codemirror_mode": {
    "name": "ipython",
    "version": 3
   },
   "file_extension": ".py",
   "mimetype": "text/x-python",
   "name": "python",
   "nbconvert_exporter": "python",
   "pygments_lexer": "ipython3",
   "version": "3.8.8"
  }
 },
 "nbformat": 4,
 "nbformat_minor": 4
}
